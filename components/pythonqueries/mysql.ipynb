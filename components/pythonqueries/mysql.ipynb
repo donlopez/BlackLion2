{
 "cells": [
  {
   "cell_type": "code",
   "execution_count": 5,
   "metadata": {},
   "outputs": [
    {
     "name": "stdout",
     "output_type": "stream",
     "text": [
      "Databases on this server:\n",
      "information_schema\n",
      "my_project_database\n",
      "mysql\n",
      "performance_schema\n",
      "sakila\n",
      "sys\n",
      "test\n",
      "world\n"
     ]
    }
   ],
   "source": [
    "import mysql.connector\n",
    "\n",
    "# Connect to the MySQL server\n",
    "conn = mysql.connector.connect(\n",
    "    host=\"localhost\",         # Your MySQL host, e.g., \"localhost\" for local machine\n",
    "    user=\"root\",     # Your MySQL username\n",
    "    password=\"Passw0rd\"  # Your MySQL password\n",
    ")\n",
    "\n",
    "# Create a cursor object\n",
    "cursor = conn.cursor()\n",
    "\n",
    "# Execute a query to show databases\n",
    "cursor.execute(\"SHOW DATABASES\")\n",
    "\n",
    "# Fetch all databases and print them\n",
    "databases = cursor.fetchall()\n",
    "print(\"Databases on this server:\")\n",
    "for db in databases:\n",
    "    print(db[0])\n",
    "\n",
    "# Close the cursor and connection\n",
    "cursor.close()\n",
    "conn.close()\n"
   ]
  },
  {
   "cell_type": "code",
   "execution_count": 3,
   "metadata": {},
   "outputs": [
    {
     "name": "stdout",
     "output_type": "stream",
     "text": [
      "ticket_id | event_name | buyer_name | price | purchase_date\n"
     ]
    }
   ],
   "source": [
    "import mysql.connector\n",
    "\n",
    "# Connect to the MySQL server and my_project_database\n",
    "conn = mysql.connector.connect(\n",
    "    host=\"localhost\",\n",
    "    user=\"root\",\n",
    "    password=\"Passw0rd\",  # Replace with your MySQL password\n",
    "    database=\"my_project_database\"  # The name of your database\n",
    ")\n",
    "\n",
    "# Create a cursor object\n",
    "cursor = conn.cursor()\n",
    "\n",
    "# Execute a query to show all contents from the tickets table\n",
    "cursor.execute(\"SELECT * FROM tickets\")\n",
    "\n",
    "# Fetch all rows from the table\n",
    "rows = cursor.fetchall()\n",
    "\n",
    "# Print the column headers\n",
    "column_headers = [i[0] for i in cursor.description]\n",
    "print(f\"{' | '.join(column_headers)}\")\n",
    "\n",
    "# Print each row in the table\n",
    "for row in rows:\n",
    "    print(row)\n",
    "\n",
    "# Close the cursor and connection\n",
    "cursor.close()\n",
    "conn.close()\n"
   ]
  }
 ],
 "metadata": {
  "kernelspec": {
   "display_name": "Python 3",
   "language": "python",
   "name": "python3"
  },
  "language_info": {
   "codemirror_mode": {
    "name": "ipython",
    "version": 3
   },
   "file_extension": ".py",
   "mimetype": "text/x-python",
   "name": "python",
   "nbconvert_exporter": "python",
   "pygments_lexer": "ipython3",
   "version": "3.12.3"
  }
 },
 "nbformat": 4,
 "nbformat_minor": 2
}
