{
 "cells": [
  {
   "cell_type": "code",
   "execution_count": 1,
   "metadata": {},
   "outputs": [
    {
     "name": "stdout",
     "output_type": "stream",
     "text": [
      "Tables in the database:\n",
      "Event\n",
      "Event_Resource\n",
      "Person\n",
      "Resource\n",
      "Venue\n"
     ]
    }
   ],
   "source": [
    "import mysql.connector\n",
    "import os\n",
    "from dotenv import load_dotenv\n",
    "\n",
    "# Load .env\n",
    "load_dotenv()\n",
    "\n",
    "connection = mysql.connector.connect(\n",
    "    host=os.getenv(\"DB_HOST\"),\n",
    "    user=os.getenv(\"DB_USER\"),\n",
    "    password=os.getenv(\"DB_PASSWORD\"),\n",
    "    database=os.getenv(\"DB_NAME\")\n",
    ")\n",
    "\n",
    "cursor = connection.cursor()\n",
    "cursor.execute(\"SHOW TABLES;\")\n",
    "tables = cursor.fetchall()\n",
    "\n",
    "print(\"Tables in the database:\")\n",
    "for (table,) in tables:\n",
    "    print(table)\n",
    "\n",
    "cursor.close()\n",
    "connection.close()\n"
   ]
  },
  {
   "cell_type": "code",
   "execution_count": 7,
   "metadata": {},
   "outputs": [],
   "source": [
    "import mysql.connector\n",
    "import os\n",
    "from dotenv import load_dotenv\n",
    "\n",
    "# Load .env\n",
    "load_dotenv()\n",
    "\n",
    "def get_db_connection():\n",
    "    return mysql.connector.connect(\n",
    "        host=os.getenv(\"DB_HOST\"),\n",
    "        user=os.getenv(\"DB_USER\"),\n",
    "        password=os.getenv(\"DB_PASSWORD\"),\n",
    "        database=os.getenv(\"DB_NAME\")\n",
    "    )\n"
   ]
  },
  {
   "cell_type": "code",
   "execution_count": 8,
   "metadata": {},
   "outputs": [],
   "source": [
    "connection = get_db_connection()\n",
    "cursor = connection.cursor()\n"
   ]
  },
  {
   "cell_type": "code",
   "execution_count": 9,
   "metadata": {},
   "outputs": [
    {
     "name": "stdout",
     "output_type": "stream",
     "text": [
      "[]\n"
     ]
    }
   ],
   "source": [
    "username = \"testuser\"  # adjust if you want\n",
    "cursor.execute(\"SELECT * FROM Person WHERE username = %s\", (username,))\n",
    "result = cursor.fetchall()\n",
    "print(result)\n"
   ]
  },
  {
   "cell_type": "code",
   "execution_count": 10,
   "metadata": {},
   "outputs": [
    {
     "name": "stdout",
     "output_type": "stream",
     "text": [
      "Collecting bcrypt\n",
      "  Downloading bcrypt-4.3.0-cp39-abi3-macosx_10_12_universal2.whl.metadata (10 kB)\n",
      "Downloading bcrypt-4.3.0-cp39-abi3-macosx_10_12_universal2.whl (498 kB)\n",
      "Installing collected packages: bcrypt\n",
      "Successfully installed bcrypt-4.3.0\n",
      "Note: you may need to restart the kernel to use updated packages.\n",
      "Test user inserted.\n"
     ]
    }
   ],
   "source": [
    "%pip install bcrypt\n",
    "\n",
    "from datetime import date\n",
    "import bcrypt\n",
    "\n",
    "hashed = bcrypt.hashpw(b\"testpassword\", bcrypt.gensalt())\n",
    "\n",
    "values = (\"John\", \"Doe\", date(2000, 1, 1), \"testuser\", hashed.decode(), \"john@example.com\", \"1234567890\")\n",
    "\n",
    "cursor.execute(\"\"\"\n",
    "    INSERT INTO Person (FirstName, LastName, DOB, Username, Password, Email, Phone)\n",
    "    VALUES (%s, %s, %s, %s, %s, %s, %s)\n",
    "\"\"\", values)\n",
    "\n",
    "connection.commit()\n",
    "print(\"Test user inserted.\")\n"
   ]
  },
  {
   "cell_type": "code",
   "execution_count": 11,
   "metadata": {},
   "outputs": [
    {
     "name": "stdout",
     "output_type": "stream",
     "text": [
      "[]\n"
     ]
    }
   ],
   "source": [
    "user_id = 1  # replace with the actual personID you want to test\n",
    "\n",
    "query = \"\"\"\n",
    "SELECT Event.EventID, Event.Name, Event.EventDate AS date, Event.StartTime, Event.EndTime, Event.Details, Event.GuestCount,\n",
    "       Venue.Name AS venue_name, Venue.Address AS address\n",
    "FROM Event\n",
    "LEFT JOIN Venue ON Event.VenueID = Venue.VenueID\n",
    "WHERE Event.CreatedByID = %s\n",
    "ORDER BY Event.EventDate ASC\n",
    "\"\"\"\n",
    "cursor.execute(query, (user_id,))\n",
    "events = cursor.fetchall()\n",
    "print(events)\n"
   ]
  },
  {
   "cell_type": "code",
   "execution_count": 12,
   "metadata": {},
   "outputs": [
    {
     "name": "stdout",
     "output_type": "stream",
     "text": [
      "Profile updated.\n"
     ]
    }
   ],
   "source": [
    "user_id = 1  # replace with your personID\n",
    "new_email = \"newjohn@example.com\"\n",
    "\n",
    "query = \"\"\"\n",
    "UPDATE Person\n",
    "SET Email = %s\n",
    "WHERE PersonID = %s\n",
    "\"\"\"\n",
    "cursor.execute(query, (new_email, user_id))\n",
    "connection.commit()\n",
    "print(\"Profile updated.\")\n"
   ]
  },
  {
   "cell_type": "code",
   "execution_count": 13,
   "metadata": {},
   "outputs": [
    {
     "name": "stdout",
     "output_type": "stream",
     "text": [
      "Profile updated.\n"
     ]
    }
   ],
   "source": [
    "user_id = 1  # replace with your personID\n",
    "new_email = \"newjohn@example.com\"\n",
    "\n",
    "query = \"\"\"\n",
    "UPDATE Person\n",
    "SET Email = %s\n",
    "WHERE PersonID = %s\n",
    "\"\"\"\n",
    "cursor.execute(query, (new_email, user_id))\n",
    "connection.commit()\n",
    "print(\"Profile updated.\")\n"
   ]
  },
  {
   "cell_type": "code",
   "execution_count": 17,
   "metadata": {},
   "outputs": [
    {
     "name": "stdout",
     "output_type": "stream",
     "text": [
      "[(34, 'John')]\n"
     ]
    }
   ],
   "source": [
    "cursor.execute(\"SELECT PersonID, FirstName FROM Person\")\n",
    "people = cursor.fetchall()\n",
    "print(people)\n"
   ]
  },
  {
   "cell_type": "code",
   "execution_count": 18,
   "metadata": {},
   "outputs": [
    {
     "name": "stdout",
     "output_type": "stream",
     "text": [
      "Event created successfully.\n"
     ]
    }
   ],
   "source": [
    "# insert venue\n",
    "venue_data = (\"My Venue\", \"123 Venue Street\", 50, 34, 1)  # availability=1, ownerID=34\n",
    "cursor.execute(\"\"\"\n",
    "INSERT INTO Venue (Name, Address, MaxCapacity, OwnerID, Availability)\n",
    "VALUES (%s, %s, %s, %s, %s)\n",
    "\"\"\", venue_data)\n",
    "venue_id = cursor.lastrowid\n",
    "\n",
    "# insert event\n",
    "from datetime import date\n",
    "event_data = (\n",
    "    \"Birthday Party\",\n",
    "    venue_id,\n",
    "    date(2025, 7, 15),\n",
    "    \"18:00\",\n",
    "    \"23:00\",\n",
    "    20,\n",
    "    \"Birthday celebration\",\n",
    "    34  # CreatedByID matches the PersonID\n",
    ")\n",
    "cursor.execute(\"\"\"\n",
    "INSERT INTO Event (Name, VenueID, EventDate, StartTime, EndTime, GuestCount, Details, CreatedByID)\n",
    "VALUES (%s, %s, %s, %s, %s, %s, %s, %s)\n",
    "\"\"\", event_data)\n",
    "\n",
    "connection.commit()\n",
    "print(\"Event created successfully.\")\n",
    "\n"
   ]
  },
  {
   "cell_type": "code",
   "execution_count": 19,
   "metadata": {},
   "outputs": [
    {
     "name": "stdout",
     "output_type": "stream",
     "text": [
      "[(64, 'Birthday Party')]\n"
     ]
    }
   ],
   "source": [
    "cursor.execute(\"SELECT EventID, Name FROM Event\")\n",
    "events = cursor.fetchall()\n",
    "print(events)\n"
   ]
  },
  {
   "cell_type": "code",
   "execution_count": 20,
   "metadata": {},
   "outputs": [
    {
     "name": "stdout",
     "output_type": "stream",
     "text": [
      "Event 64 deleted successfully.\n"
     ]
    }
   ],
   "source": [
    "event_id = 64\n",
    "created_by_id = 34\n",
    "\n",
    "cursor.execute(\"\"\"\n",
    "DELETE FROM Event\n",
    "WHERE EventID = %s AND CreatedByID = %s\n",
    "\"\"\", (event_id, created_by_id))\n",
    "\n",
    "connection.commit()\n",
    "print(f\"Event {event_id} deleted successfully.\")\n"
   ]
  },
  {
   "cell_type": "code",
   "execution_count": 21,
   "metadata": {},
   "outputs": [
    {
     "name": "stdout",
     "output_type": "stream",
     "text": [
      "[]\n"
     ]
    }
   ],
   "source": [
    "cursor.execute(\"SELECT * FROM Event\")\n",
    "print(cursor.fetchall())\n"
   ]
  },
  {
   "cell_type": "code",
   "execution_count": 22,
   "metadata": {},
   "outputs": [
    {
     "name": "stdout",
     "output_type": "stream",
     "text": [
      "Profile updated.\n"
     ]
    }
   ],
   "source": [
    "user_id = 34\n",
    "new_email = \"updatedjohn@example.com\"\n",
    "\n",
    "cursor.execute(\"\"\"\n",
    "UPDATE Person\n",
    "SET Email = %s\n",
    "WHERE PersonID = %s\n",
    "\"\"\", (new_email, user_id))\n",
    "\n",
    "connection.commit()\n",
    "print(\"Profile updated.\")\n"
   ]
  },
  {
   "cell_type": "code",
   "execution_count": 23,
   "metadata": {},
   "outputs": [
    {
     "name": "stdout",
     "output_type": "stream",
     "text": [
      "[(34, 'updatedjohn@example.com')]\n"
     ]
    }
   ],
   "source": [
    "cursor.execute(\"SELECT PersonID, Email FROM Person WHERE PersonID = %s\", (user_id,))\n",
    "print(cursor.fetchall())\n"
   ]
  }
 ],
 "metadata": {
  "kernelspec": {
   "display_name": "Python 3",
   "language": "python",
   "name": "python3"
  },
  "language_info": {
   "codemirror_mode": {
    "name": "ipython",
    "version": 3
   },
   "file_extension": ".py",
   "mimetype": "text/x-python",
   "name": "python",
   "nbconvert_exporter": "python",
   "pygments_lexer": "ipython3",
   "version": "3.12.2"
  }
 },
 "nbformat": 4,
 "nbformat_minor": 2
}
